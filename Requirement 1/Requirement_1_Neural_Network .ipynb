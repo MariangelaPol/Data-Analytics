{
 "cells": [
  {
   "cell_type": "code",
   "execution_count": null,
   "metadata": {
    "colab": {
     "base_uri": "https://localhost:8080/"
    },
    "id": "-EjcMddZ7p8G",
    "outputId": "a44927b4-49ff-4abd-ae95-c32d705db9c2"
   },
   "outputs": [
    {
     "name": "stdout",
     "output_type": "stream",
     "text": [
      "Drive already mounted at /content/drive; to attempt to forcibly remount, call drive.mount(\"/content/drive\", force_remount=True).\n"
     ]
    }
   ],
   "source": [
    "from google.colab import drive\n",
    "drive.mount('/content/drive')"
   ]
  },
  {
   "cell_type": "code",
   "execution_count": null,
   "metadata": {
    "colab": {
     "base_uri": "https://localhost:8080/"
    },
    "id": "gISrv6SJCMof",
    "outputId": "a937ee7c-1bc6-4c4d-a2cd-32517a0341bd"
   },
   "outputs": [
    {
     "name": "stderr",
     "output_type": "stream",
     "text": [
      "[nltk_data] Downloading package punkt to /root/nltk_data...\n",
      "[nltk_data]   Package punkt is already up-to-date!\n",
      "[nltk_data] Downloading package stopwords to /root/nltk_data...\n",
      "[nltk_data]   Package stopwords is already up-to-date!\n"
     ]
    }
   ],
   "source": [
    "import pandas as pd\n",
    "\n",
    "from sklearn.feature_extraction.text import TfidfVectorizer\n",
    "from sklearn.decomposition import TruncatedSVD\n",
    "from sklearn.neighbors import KNeighborsClassifier\n",
    "from sklearn.model_selection import KFold\n",
    "from sklearn.metrics import accuracy_score\n",
    "from sklearn.metrics import precision_score\n",
    "from sklearn.metrics import recall_score\n",
    "from sklearn.metrics import f1_score\n",
    "from sklearn import preprocessing\n",
    "\n",
    "\n",
    "import nltk\n",
    "nltk.download('punkt')\n",
    "nltk.download('stopwords')\n",
    "  \n",
    "\n",
    "import time\n",
    "import numpy as np\n",
    "from nltk.corpus import stopwords\n",
    "\n",
    "import tensorflow as tf\n",
    "\n",
    "\n",
    "from keras.models import Sequential\n",
    "from keras.layers import Dense\n",
    "from keras.utils import plot_model"
   ]
  },
  {
   "cell_type": "code",
   "execution_count": null,
   "metadata": {
    "id": "Vo9mowIpCPhp"
   },
   "outputs": [],
   "source": [
    "#import stop words, data and do some pre processing\n",
    "stop_words = set(stopwords.words('english'))\n",
    "with open('/content/drive/My Drive/stopwords.txt') as f:\n",
    "    for line in f:\n",
    "        stop_words.add(line[:-1])\n",
    "stop_words = list(stop_words)\n",
    "#Read the csv file and change the encoding, remove tags,lower them\n",
    "df_train = pd.read_csv('/content/drive/MyDrive/bigdata2023-exercise1-classification/train.csv', encoding='utf-8')\n",
    "df_train['Title'] = df_train['Title'].str.encode('ascii', 'ignore').str.decode('ascii').str.lower().str.replace('<br />','')\n",
    "df_train['Content'] = df_train['Content'].str.encode('ascii', 'ignore').str.decode('ascii').str.lower().str.replace('<br />','')\n",
    "df_train['Label'] = df_train['Label'].str.encode('ascii', 'ignore').str.decode('ascii').str.lower().str.replace('<br />','')\n",
    "\n",
    "#make a new column as a combination of title & content \n",
    "df_train['Combined']  = 3*(df_train['Title'] + ' ')  + df_train['Content']"
   ]
  },
  {
   "cell_type": "code",
   "execution_count": null,
   "metadata": {
    "id": "oPfd00XNCUno"
   },
   "outputs": [],
   "source": [
    "#initializations\n",
    "le = preprocessing.LabelEncoder()\n",
    "y = le.fit_transform(df_train['Label'])\n"
   ]
  },
  {
   "cell_type": "code",
   "execution_count": null,
   "metadata": {
    "id": "IMbE_VQeNKeB"
   },
   "outputs": [],
   "source": [
    "vectorizer = TfidfVectorizer(stop_words=stop_words, max_features=1000)\n",
    "X = vectorizer.fit_transform(df_train['Combined']).toarray()\n"
   ]
  },
  {
   "cell_type": "code",
   "execution_count": null,
   "metadata": {
    "colab": {
     "base_uri": "https://localhost:8080/"
    },
    "id": "ornnJIqXhiQ8",
    "outputId": "eec52ad7-7c57-4aa8-f6f2-2c16ac55e4fc"
   },
   "outputs": [
    {
     "data": {
      "text/plain": [
       "(111795, 1000)"
      ]
     },
     "execution_count": 6,
     "metadata": {},
     "output_type": "execute_result"
    }
   ],
   "source": [
    "X.shape"
   ]
  },
  {
   "cell_type": "code",
   "execution_count": null,
   "metadata": {
    "colab": {
     "base_uri": "https://localhost:8080/"
    },
    "id": "4ommEIe8hR4h",
    "outputId": "16b57915-f98c-43af-c9bd-3a2d5c6f6792"
   },
   "outputs": [
    {
     "data": {
      "text/plain": [
       "numpy.ndarray"
      ]
     },
     "execution_count": 7,
     "metadata": {},
     "output_type": "execute_result"
    }
   ],
   "source": [
    "type(X)"
   ]
  },
  {
   "cell_type": "code",
   "execution_count": null,
   "metadata": {
    "id": "vTQ3V4p_wD4W"
   },
   "outputs": [],
   "source": [
    "model = Sequential()\n",
    "model.add(Dense(256, activation='relu', input_dim=1000))\n",
    "model.add(Dense(128, activation='relu'))\n",
    "model.add(Dense(4, activation='softmax'))\n",
    "model.compile(loss='sparse_categorical_crossentropy',optimizer='adam',metrics=['accuracy'])\n"
   ]
  },
  {
   "cell_type": "code",
   "execution_count": null,
   "metadata": {
    "colab": {
     "base_uri": "https://localhost:8080/"
    },
    "id": "lSK3kiMJcWMf",
    "outputId": "3a1b409d-23fd-43ef-cb0b-d002ac3d792f"
   },
   "outputs": [
    {
     "name": "stdout",
     "output_type": "stream",
     "text": [
      "[1 1 3 ... 2 1 1]\n"
     ]
    }
   ],
   "source": [
    "print(y)"
   ]
  },
  {
   "cell_type": "code",
   "execution_count": 22,
   "metadata": {
    "colab": {
     "base_uri": "https://localhost:8080/"
    },
    "id": "r3EmYkpE70Sz",
    "outputId": "f5545be4-0f72-4d8c-d8bd-47fa585b5e02"
   },
   "outputs": [
    {
     "name": "stdout",
     "output_type": "stream",
     "text": [
      "74530/74530 [==============================] - 214s 3ms/step - loss: 0.0528 - accuracy: 0.9898\n",
      "1165/1165 [==============================] - 2s 2ms/step\n",
      "74530/74530 [==============================] - 209s 3ms/step - loss: 0.0457 - accuracy: 0.9908\n",
      "1165/1165 [==============================] - 2s 2ms/step\n",
      "74530/74530 [==============================] - 206s 3ms/step - loss: 0.0392 - accuracy: 0.9923\n",
      "1165/1165 [==============================] - 2s 2ms/step\n",
      "accuracy = 0.9923, precision = 0.992, recall = 0.9909, f1-measure = 0.9914\n",
      "3-fold time: 747.9303843975067 s\n",
      "Total for Neural Network Classifier: 747.9315810203552 s\n"
     ]
    }
   ],
   "source": [
    "total_time = time.time()\n",
    "\n",
    "\n",
    "\n",
    "kfold_time = time.time()\n",
    "kf = KFold(n_splits=5)\n",
    "accuracy = 0\n",
    "precision = 0\n",
    "recall = 0\n",
    "fmeasure = 0\n",
    "\n",
    "\n",
    "for train_index, test_index in kf.split(X):\n",
    "    \n",
    "    X_train, X_test = X[train_index], X[test_index]\n",
    "    y_train, y_test = y[train_index], y[test_index]\n",
    "\n",
    "    model.fit(X_train, y_train,epochs=3, batch_size=1, verbose=1)\n",
    "    plot_model(model, to_file='dnn.png', show_shapes=True)\n",
    "    y_pred = model.predict(X_test)\n",
    "    y_pred = np.argmax(y_pred, axis = 1)\n",
    "    \n",
    "    accuracy += accuracy_score(y_test, y_pred)\n",
    "    precision += precision_score(y_test, y_pred, average='macro')\n",
    "    recall += recall_score(y_test, y_pred, average='macro')\n",
    "    fmeasure += f1_score(y_test, y_pred, average='macro')\n",
    "\n",
    "accuracy /= 5\n",
    "precision /= 5\n",
    "recall /= 5\n",
    "fmeasure /= 5\n",
    "\n",
    "print('accuracy = {}, precision = {}, recall = {}, f1-measure = {}'.format(round(accuracy, 4), round(precision,4), round(recall,4), round(fmeasure,4)))\n",
    "print('3-fold time: {} s'.format(time.time() - kfold_time))\n",
    "print('Total for Neural Network Classifier: {} s'.format(time.time() - total_time))"
   ]
  }
 ],
 "metadata": {
  "accelerator": "GPU",
  "colab": {
   "provenance": []
  },
  "gpuClass": "standard",
  "kernelspec": {
   "display_name": "Python 3 (ipykernel)",
   "language": "python",
   "name": "python3"
  },
  "language_info": {
   "codemirror_mode": {
    "name": "ipython",
    "version": 3
   },
   "file_extension": ".py",
   "mimetype": "text/x-python",
   "name": "python",
   "nbconvert_exporter": "python",
   "pygments_lexer": "ipython3",
   "version": "3.9.12"
  }
 },
 "nbformat": 4,
 "nbformat_minor": 1
}
