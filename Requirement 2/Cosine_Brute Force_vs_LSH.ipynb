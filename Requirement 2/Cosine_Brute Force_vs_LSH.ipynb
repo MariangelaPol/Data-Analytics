{
 "cells": [
  {
   "cell_type": "code",
   "execution_count": 1,
   "id": "b510886d",
   "metadata": {},
   "outputs": [],
   "source": [
    "import pandas as pd\n",
    "import matplotlib.pyplot as plt\n",
    "import seaborn as sns\n",
    "from sklearn.feature_extraction.text import TfidfVectorizer\n",
    "import string\n",
    "from sklearn.neighbors import KNeighborsClassifier\n",
    "import time\n",
    "from sklearn import random_projection\n",
    "import numpy as np\n",
    "from scipy import sparse\n",
    "from scipy.sparse import csr_matrix, vstack "
   ]
  },
  {
   "cell_type": "code",
   "execution_count": 2,
   "id": "384bb2f8",
   "metadata": {},
   "outputs": [],
   "source": [
    "#load datasets\n",
    "data = pd.read_csv(\"C:/Users/Professional/BigDataAnalytics/imdb/processed_data.csv\")\n",
    "test = pd.read_csv(\"C:/Users/Professional/BigDataAnalytics/imdb/processed_test.csv\")"
   ]
  },
  {
   "cell_type": "markdown",
   "id": "188c9325",
   "metadata": {},
   "source": [
    "A first look at the data"
   ]
  },
  {
   "cell_type": "code",
   "execution_count": 3,
   "id": "f3045762",
   "metadata": {},
   "outputs": [
    {
     "data": {
      "text/html": [
       "<div>\n",
       "<style scoped>\n",
       "    .dataframe tbody tr th:only-of-type {\n",
       "        vertical-align: middle;\n",
       "    }\n",
       "\n",
       "    .dataframe tbody tr th {\n",
       "        vertical-align: top;\n",
       "    }\n",
       "\n",
       "    .dataframe thead th {\n",
       "        text-align: right;\n",
       "    }\n",
       "</style>\n",
       "<table border=\"1\" class=\"dataframe\">\n",
       "  <thead>\n",
       "    <tr style=\"text-align: right;\">\n",
       "      <th></th>\n",
       "      <th>id</th>\n",
       "      <th>review</th>\n",
       "      <th>sentiment</th>\n",
       "    </tr>\n",
       "  </thead>\n",
       "  <tbody>\n",
       "    <tr>\n",
       "      <th>0</th>\n",
       "      <td>34006</td>\n",
       "      <td>creat realiti core question behind highli orig...</td>\n",
       "      <td>1</td>\n",
       "    </tr>\n",
       "    <tr>\n",
       "      <th>1</th>\n",
       "      <td>10965</td>\n",
       "      <td>dear god begin bar none best movi ever seen ca...</td>\n",
       "      <td>1</td>\n",
       "    </tr>\n",
       "    <tr>\n",
       "      <th>2</th>\n",
       "      <td>9471</td>\n",
       "      <td>spoiler blown away movi rent movielink bit dec...</td>\n",
       "      <td>1</td>\n",
       "    </tr>\n",
       "    <tr>\n",
       "      <th>3</th>\n",
       "      <td>18392</td>\n",
       "      <td>see film case grudg japanes film infinit bette...</td>\n",
       "      <td>0</td>\n",
       "    </tr>\n",
       "    <tr>\n",
       "      <th>4</th>\n",
       "      <td>22981</td>\n",
       "      <td>reason give kid actor play tadashi tormentor j...</td>\n",
       "      <td>1</td>\n",
       "    </tr>\n",
       "  </tbody>\n",
       "</table>\n",
       "</div>"
      ],
      "text/plain": [
       "      id                                             review  sentiment\n",
       "0  34006  creat realiti core question behind highli orig...          1\n",
       "1  10965  dear god begin bar none best movi ever seen ca...          1\n",
       "2   9471  spoiler blown away movi rent movielink bit dec...          1\n",
       "3  18392  see film case grudg japanes film infinit bette...          0\n",
       "4  22981  reason give kid actor play tadashi tormentor j...          1"
      ]
     },
     "execution_count": 3,
     "metadata": {},
     "output_type": "execute_result"
    }
   ],
   "source": [
    "data.head()"
   ]
  },
  {
   "cell_type": "code",
   "execution_count": 4,
   "id": "543d7ee7",
   "metadata": {},
   "outputs": [
    {
     "data": {
      "text/html": [
       "<div>\n",
       "<style scoped>\n",
       "    .dataframe tbody tr th:only-of-type {\n",
       "        vertical-align: middle;\n",
       "    }\n",
       "\n",
       "    .dataframe tbody tr th {\n",
       "        vertical-align: top;\n",
       "    }\n",
       "\n",
       "    .dataframe thead th {\n",
       "        text-align: right;\n",
       "    }\n",
       "</style>\n",
       "<table border=\"1\" class=\"dataframe\">\n",
       "  <thead>\n",
       "    <tr style=\"text-align: right;\">\n",
       "      <th></th>\n",
       "      <th>id</th>\n",
       "      <th>review</th>\n",
       "    </tr>\n",
       "  </thead>\n",
       "  <tbody>\n",
       "    <tr>\n",
       "      <th>0</th>\n",
       "      <td>33527</td>\n",
       "      <td>must see movi anyon ever went camp want film c...</td>\n",
       "    </tr>\n",
       "    <tr>\n",
       "      <th>1</th>\n",
       "      <td>23058</td>\n",
       "      <td>world dragon hunter graviti challeng world pla...</td>\n",
       "    </tr>\n",
       "    <tr>\n",
       "      <th>2</th>\n",
       "      <td>21058</td>\n",
       "      <td>watch movi think get good moment wrong real be...</td>\n",
       "    </tr>\n",
       "    <tr>\n",
       "      <th>3</th>\n",
       "      <td>31732</td>\n",
       "      <td>classic mani great dialog scene nobodi miss ni...</td>\n",
       "    </tr>\n",
       "    <tr>\n",
       "      <th>4</th>\n",
       "      <td>17285</td>\n",
       "      <td>italian french remak film name turn heat earli...</td>\n",
       "    </tr>\n",
       "  </tbody>\n",
       "</table>\n",
       "</div>"
      ],
      "text/plain": [
       "      id                                             review\n",
       "0  33527  must see movi anyon ever went camp want film c...\n",
       "1  23058  world dragon hunter graviti challeng world pla...\n",
       "2  21058  watch movi think get good moment wrong real be...\n",
       "3  31732  classic mani great dialog scene nobodi miss ni...\n",
       "4  17285  italian french remak film name turn heat earli..."
      ]
     },
     "execution_count": 4,
     "metadata": {},
     "output_type": "execute_result"
    }
   ],
   "source": [
    "test.head()"
   ]
  },
  {
   "cell_type": "code",
   "execution_count": 5,
   "id": "968b9a30",
   "metadata": {},
   "outputs": [
    {
     "data": {
      "text/plain": [
       "(40000, 3)"
      ]
     },
     "execution_count": 5,
     "metadata": {},
     "output_type": "execute_result"
    }
   ],
   "source": [
    "data.shape"
   ]
  },
  {
   "cell_type": "code",
   "execution_count": 6,
   "id": "2fd4fb3b",
   "metadata": {},
   "outputs": [
    {
     "data": {
      "text/plain": [
       "(10000, 2)"
      ]
     },
     "execution_count": 6,
     "metadata": {},
     "output_type": "execute_result"
    }
   ],
   "source": [
    "test.shape"
   ]
  },
  {
   "cell_type": "code",
   "execution_count": 7,
   "id": "2519839d",
   "metadata": {},
   "outputs": [
    {
     "name": "stdout",
     "output_type": "stream",
     "text": [
      "id           0\n",
      "review       0\n",
      "sentiment    0\n",
      "dtype: int64\n"
     ]
    }
   ],
   "source": [
    "#checking for null values and the amount of null values\n",
    "data.isnull().values.any()\n",
    "print(data.isnull().sum()) "
   ]
  },
  {
   "cell_type": "code",
   "execution_count": 8,
   "id": "278a4f0f",
   "metadata": {},
   "outputs": [
    {
     "name": "stdout",
     "output_type": "stream",
     "text": [
      "id        0\n",
      "review    0\n",
      "dtype: int64\n"
     ]
    }
   ],
   "source": [
    "#checking for null values and the amount of null values\n",
    "test.isnull().values.any()\n",
    "print(test.isnull().sum()) "
   ]
  },
  {
   "cell_type": "code",
   "execution_count": 9,
   "id": "e44d043e",
   "metadata": {},
   "outputs": [
    {
     "name": "stdout",
     "output_type": "stream",
     "text": [
      "Number of duplicate rows: 0\n"
     ]
    }
   ],
   "source": [
    "#check for duplicate rows\n",
    "duplicate_data = data[data.duplicated()]\n",
    "print(\"Number of duplicate rows:\", duplicate_data.shape[0])"
   ]
  },
  {
   "cell_type": "code",
   "execution_count": 10,
   "id": "b472f3c6",
   "metadata": {},
   "outputs": [
    {
     "name": "stdout",
     "output_type": "stream",
     "text": [
      "Number of duplicate rows: 0\n"
     ]
    }
   ],
   "source": [
    "#check for duplicate rows\n",
    "duplicate_test = test[test.duplicated()]\n",
    "print(\"Number of duplicate rows:\", duplicate_test.shape[0])"
   ]
  },
  {
   "cell_type": "code",
   "execution_count": 11,
   "id": "0548c896",
   "metadata": {},
   "outputs": [
    {
     "name": "stdout",
     "output_type": "stream",
     "text": [
      "[1 0]\n"
     ]
    }
   ],
   "source": [
    "#checking which are the unique labels\n",
    "print(data['sentiment'].unique())"
   ]
  },
  {
   "cell_type": "markdown",
   "id": "e8f128a6",
   "metadata": {},
   "source": [
    "# Descriptive Statistics "
   ]
  },
  {
   "cell_type": "code",
   "execution_count": 12,
   "id": "7003b902",
   "metadata": {},
   "outputs": [
    {
     "name": "stdout",
     "output_type": "stream",
     "text": [
      "Total Counts of both sets 1    20022\n",
      "0    19978\n",
      "Name: sentiment, dtype: int64\n",
      "==============\n"
     ]
    },
    {
     "data": {
      "image/png": "[encoded data removed]",
      "text/plain": [
       "<Figure size 432x432 with 1 Axes>"
      ]
     },
     "metadata": {
      "needs_background": "light"
     },
     "output_type": "display_data"
    }
   ],
   "source": [
    "#Count of 0,1\n",
    "count=data['sentiment'].value_counts()\n",
    "print('Total Counts of both sets'.format(), count)\n",
    "\n",
    "print(\"==============\")\n",
    "#Creating a function to plot the counts using matplotlib\n",
    "def plot_counts(count_0,count_1):\n",
    "    plt.rcParams['figure.figsize']=(6,6)\n",
    "    plt.bar(0,count_0,width=0.6,label='0',color='Orange')\n",
    "    plt.legend()\n",
    "    plt.bar(1,count_1,width=0.6,label='1',color='Yellow')\n",
    "    plt.legend()\n",
    "    plt.ylabel('Count of Labels')\n",
    "    plt.xlabel('Types of Labels')\n",
    "    plt.show()\n",
    "    \n",
    "count_0 = data[data['sentiment']==0]\n",
    "count_1 = data[data['sentiment']==1]\n",
    "\n",
    "\n",
    "plot_counts(len(count_0),len(count_1))"
   ]
  },
  {
   "cell_type": "code",
   "execution_count": 13,
   "id": "5a3216f9",
   "metadata": {
    "scrolled": true
   },
   "outputs": [
    {
     "data": {
      "image/png": "[encoded data removed]",
      "text/plain": [
       "<Figure size 1440x360 with 2 Axes>"
      ]
     },
     "metadata": {
      "needs_background": "light"
     },
     "output_type": "display_data"
    }
   ],
   "source": [
    "#Analyse the count of words in each segment for the two labels: 0,1\n",
    "#Function for checking word length\n",
    "def cal_len(data):\n",
    "    return len(data)\n",
    "\n",
    "#Create generic plotter with Seaborn\n",
    "def plot_count(count_0_words,count_1_words,title_1,title_2,subtitle):\n",
    "    fig,(ax1,ax2)=plt.subplots(1,2,figsize=(20,5))\n",
    "    sns.histplot(count_0_words,ax=ax1,color='Orange')\n",
    "    ax1.set_title(title_1)\n",
    "    sns.histplot(count_1_words,ax=ax2,color='Yellow')\n",
    "    ax2.set_title(title_2)\n",
    "    fig.suptitle(subtitle)\n",
    "    plt.show()    \n",
    "\n",
    "\n",
    "count_0_words=[]    \n",
    "for i in range(len(count_0['review'])):\n",
    "    count_0_words.append(len(count_0.iloc[i]['review'].split()))\n",
    "count_1_words=[]    \n",
    "for i in range(len(count_1['review'])):\n",
    "    count_1_words.append(len(count_1.iloc[i]['review'].split()))\n",
    "\n",
    "# print(\"Entertainment:\" + str(count_Entertainment_words))\n",
    "# print(\"Technology:\" + str(count_Technology_words))\n",
    "# print(\"Business:\" + str(count_Business_words))\n",
    "# print(\"Health:\" + str(count_Health_words))\n",
    "plot_count(count_0_words,count_1_words,\"0\",\"1\",\"Content Word Analysis\")"
   ]
  },
  {
   "cell_type": "markdown",
   "id": "429045a8",
   "metadata": {},
   "source": [
    "# Brute Force Cosine"
   ]
  },
  {
   "cell_type": "markdown",
   "id": "306a99c7",
   "metadata": {},
   "source": [
    "$\\bf{Modeling}$"
   ]
  },
  {
   "cell_type": "code",
   "execution_count": 14,
   "id": "4bf7dd43",
   "metadata": {},
   "outputs": [],
   "source": [
    "train_feat_c = data[\"review\"].tolist()\n",
    "train_lab = data[\"sentiment\"].tolist()\n",
    "test_feat_c = test[\"review\"].tolist()\n",
    "train_id = data[\"id\"].tolist()"
   ]
  },
  {
   "cell_type": "code",
   "execution_count": 15,
   "id": "6ca3b884",
   "metadata": {},
   "outputs": [],
   "source": [
    "#tfidf for make the words to numerical\n",
    "vectorizer = TfidfVectorizer()\n",
    "train_feat = vectorizer.fit_transform(train_feat_c)\n",
    "test_feat = vectorizer.transform(test_feat_c)"
   ]
  },
  {
   "cell_type": "code",
   "execution_count": 16,
   "id": "c0d920bc",
   "metadata": {},
   "outputs": [
    {
     "data": {
      "text/plain": [
       "KNeighborsClassifier(algorithm='brute', metric='cosine', n_neighbors=15)"
      ]
     },
     "execution_count": 16,
     "metadata": {},
     "output_type": "execute_result"
    }
   ],
   "source": [
    "neigh = KNeighborsClassifier(n_neighbors=15, algorithm='brute', metric='cosine')\n",
    "neigh.fit(train_feat,train_lab )"
   ]
  },
  {
   "cell_type": "code",
   "execution_count": 17,
   "id": "c9acf6cc",
   "metadata": {},
   "outputs": [
    {
     "name": "stdout",
     "output_type": "stream",
     "text": [
      "35.35259747505188\n"
     ]
    }
   ],
   "source": [
    "start=time.time()\n",
    "BFcosine=neigh.kneighbors(test_feat, return_distance=False)\n",
    "end=time.time()\n",
    "print(end-start)"
   ]
  },
  {
   "cell_type": "code",
   "execution_count": 18,
   "id": "1e7aba58",
   "metadata": {},
   "outputs": [],
   "source": [
    "BFcos=[]\n",
    "for i in range(10000):\n",
    "    temp=[]\n",
    "    for j in range(15):\n",
    "        x=BFcosine[i,j]\n",
    "        temp.append(x)\n",
    "    BFcos.append(temp)\n",
    "    "
   ]
  },
  {
   "cell_type": "markdown",
   "id": "b5ce1222",
   "metadata": {},
   "source": [
    "# LSH APPROACH\n"
   ]
  },
  {
   "cell_type": "code",
   "execution_count": 19,
   "id": "fe5bb538",
   "metadata": {},
   "outputs": [],
   "source": [
    "def data_transform(train_feat,test_feat,n):\n",
    "    transformer = random_projection.GaussianRandomProjection(n_components=n)\n",
    "    train_new = transformer.fit_transform(train_feat)\n",
    "    train_bin=(train_new>0).astype(int)\n",
    "    test_new = transformer.fit_transform(test_feat)\n",
    "    test_bin=(test_new>0).astype(int)\n",
    "    return train_bin, test_bin"
   ]
  },
  {
   "cell_type": "code",
   "execution_count": 20,
   "id": "13e8d2c9",
   "metadata": {},
   "outputs": [],
   "source": [
    "def bucket_creation(train_bin):\n",
    "    buckets={}\n",
    "    for i in range(train_bin.shape[0]):\n",
    "        fingerprint=''.join(train_bin[i].astype(str))\n",
    "        if fingerprint not in buckets.keys():\n",
    "            buckets[fingerprint]=[]\n",
    "        buckets[fingerprint].append(i)\n",
    "    return buckets"
   ]
  },
  {
   "cell_type": "code",
   "execution_count": 21,
   "id": "37710e7b",
   "metadata": {},
   "outputs": [],
   "source": [
    "def lsh_knn_fit(train_feat_c,train_lab,vectorizer,buckets):\n",
    "    nn={}\n",
    "    for fingerprint in buckets.keys():\n",
    "        index_list = buckets[fingerprint]\n",
    "        bucket_train=[]\n",
    "        bucket_lab=[]\n",
    "        for ind in index_list:\n",
    "            bucket_train.append(train_feat_c[ind])\n",
    "            bucket_lab.append(train_lab[ind])\n",
    "        \n",
    "        bucket_train=vectorizer.transform(bucket_train)\n",
    "\n",
    "        \n",
    "        n_n =  KNeighborsClassifier(n_neighbors=15, algorithm='brute', metric='cosine').fit(bucket_train,bucket_lab)\n",
    "        nn[fingerprint] = n_n\n",
    "    return nn"
   ]
  },
  {
   "cell_type": "code",
   "execution_count": 22,
   "id": "33952be0",
   "metadata": {},
   "outputs": [],
   "source": [
    "def common(vec1,vec2):\n",
    "    x=0\n",
    "    for i in range(len(vec1)):\n",
    "        if vec1[i] in vec2:\n",
    "                x+=1\n",
    "    return x "
   ]
  },
  {
   "cell_type": "code",
   "execution_count": 23,
   "id": "12ef3411",
   "metadata": {},
   "outputs": [],
   "source": [
    "def matches_list(top_list,BFcos):\n",
    "    matches=[]\n",
    "    for i in range(len(top_list)):\n",
    "        m=common(top_list[i],BFcos[i])\n",
    "        matches.append(m)\n",
    "    return matches"
   ]
  },
  {
   "cell_type": "code",
   "execution_count": 24,
   "id": "f6c43650",
   "metadata": {},
   "outputs": [],
   "source": [
    "def number_of_matches(matches):\n",
    "    s=0\n",
    "    for i in range(10000):\n",
    "        if matches[i]>0:\n",
    "            s=s+1\n",
    "    return s       "
   ]
  },
  {
   "cell_type": "code",
   "execution_count": 25,
   "id": "33376ca3",
   "metadata": {},
   "outputs": [],
   "source": [
    "def quering(test_bin,test_feat,buckets,nn):\n",
    "    top_15=[]\n",
    "    for i in range(10000):\n",
    "        fingerprint=''.join(test_bin[i].astype(str))\n",
    "        if fingerprint not in buckets.keys():\n",
    "            buckets[fingerprint]=[]\n",
    "        \n",
    "        index=buckets[fingerprint]\n",
    "        if len(index)<15:\n",
    "            temp=index[:]\n",
    "        else:\n",
    "            n=nn[fingerprint].kneighbors(test_feat[i], return_distance=False)\n",
    "            n=n.tolist()\n",
    "            n=n[0]\n",
    "            temp=[]\n",
    "            for i in range(len(n)):\n",
    "                ind=index[n[i]]\n",
    "                temp.append(ind)\n",
    "        top_15.append(temp)\n",
    "    return top_15"
   ]
  },
  {
   "cell_type": "code",
   "execution_count": 26,
   "id": "cab55a31",
   "metadata": {},
   "outputs": [],
   "source": [
    "K=[2,3,5,7,10,50,100]\n",
    "BuildTime = []\n",
    "QueryTime = []\n",
    "TotalTime = []\n",
    "AvgPerc = []\n",
    "for k in K:\n",
    "    #LSH Index Creation Time\n",
    "    start=time.time()\n",
    "    train_bin , test_bin = data_transform(train_feat,test_feat, k)\n",
    "    buckets=bucket_creation(train_bin)\n",
    "    nn =lsh_knn_fit(train_feat_c,train_lab,vectorizer,buckets)\n",
    "    end=time.time()\n",
    "    b=end-start\n",
    "    BuildTime.append(b)\n",
    "    #QueryTime\n",
    "    start=time.time()\n",
    "    top_15=quering(test_bin,test_feat,buckets,nn)\n",
    "    end=time.time()\n",
    "    q=end-start\n",
    "    QueryTime.append(q)\n",
    "    t=b+q\n",
    "    TotalTime.append(t)\n",
    "    matches=matches_list(top_15,BFcos)\n",
    "    perc = ((sum(matches)/15)/10000)*100\n",
    "    AvgPerc.append(perc)   "
   ]
  },
  {
   "cell_type": "code",
   "execution_count": 27,
   "id": "e3caf28e",
   "metadata": {},
   "outputs": [
    {
     "data": {
      "image/png": "[encoded data removed]",
      "text/plain": [
       "<Figure size 1440x432 with 4 Axes>"
      ]
     },
     "metadata": {
      "needs_background": "light"
     },
     "output_type": "display_data"
    },
    {
     "data": {
      "text/plain": [
       "<Figure size 432x432 with 0 Axes>"
      ]
     },
     "metadata": {},
     "output_type": "display_data"
    }
   ],
   "source": [
    "fig = plt.figure(figsize=(20, 6))\n",
    "\n",
    "plt.subplot(1,4,1)\n",
    "plt.plot(K, BuildTime, color='b')\n",
    "plt.xlim(1,K[-1]+1)\n",
    "plt.grid(True)\n",
    "plt.xlabel('K (bits)')\n",
    "plt.ylabel('Time (sec)')\n",
    "plt.title(\"BuildTime\")\n",
    "\n",
    "plt.subplot(1,4,2)\n",
    "plt.plot(K, QueryTime, color='r')\n",
    "plt.xlim(1,K[-1]+1)\n",
    "plt.grid(True)\n",
    "plt.xlabel('K (bits)')\n",
    "plt.ylabel('Time (sec)')\n",
    "plt.title(\"QueryTime\")\n",
    "\n",
    "plt.subplot(1,4,3)\n",
    "plt.plot(K, TotalTime, color='g')\n",
    "plt.xlim(1,K[-1]+1)\n",
    "plt.grid(True)\n",
    "plt.xlabel('K (bits)')\n",
    "plt.ylabel('Time (sec)')\n",
    "plt.title(\"TotalTime\")\n",
    "\n",
    "plt.subplot(1,4,4)\n",
    "plt.plot(K, AvgPerc, color='g')\n",
    "plt.xlim(1,K[-1]+1)\n",
    "plt.grid(True)\n",
    "plt.xlabel('K (bits)')\n",
    "plt.ylabel('Average Percentage')\n",
    "plt.title(\"Average Percentage of the true 15-most similar\")\n",
    "\n",
    "plt.show()\n",
    "plt.savefig('Cosine')"
   ]
  },
  {
   "cell_type": "code",
   "execution_count": 28,
   "id": "990be7bd",
   "metadata": {},
   "outputs": [
    {
     "name": "stdout",
     "output_type": "stream",
     "text": [
      "[25.33533333333333, 12.499333333333334, 3.4806666666666666, 0.7259999999999999, 0.10066666666666665, 0.0, 0.0]\n",
      "[5.4477105140686035, 3.9015724658966064, 3.9947967529296875, 4.352674722671509, 5.881103038787842, 49.455727338790894, 52.90380835533142]\n",
      "[296.2549982070923, 149.52751803398132, 35.82094097137451, 12.54545783996582, 8.091359615325928, 0.49567413330078125, 0.8118302822113037]\n",
      "[301.7027087211609, 153.42909049987793, 39.8157377243042, 16.89813256263733, 13.97246265411377, 49.951401472091675, 53.715638637542725]\n"
     ]
    }
   ],
   "source": [
    "print(AvgPerc)\n",
    "print(BuildTime)\n",
    "print(QueryTime)\n",
    "print(TotalTime)"
   ]
  },
  {
   "cell_type": "code",
   "execution_count": null,
   "id": "19292c2b",
   "metadata": {},
   "outputs": [],
   "source": []
  }
 ],
 "metadata": {
  "kernelspec": {
   "display_name": "Python 3 (ipykernel)",
   "language": "python",
   "name": "python3"
  },
  "language_info": {
   "codemirror_mode": {
    "name": "ipython",
    "version": 3
   },
   "file_extension": ".py",
   "mimetype": "text/x-python",
   "name": "python",
   "nbconvert_exporter": "python",
   "pygments_lexer": "ipython3",
   "version": "3.9.12"
  }
 },
 "nbformat": 4,
 "nbformat_minor": 5
}
