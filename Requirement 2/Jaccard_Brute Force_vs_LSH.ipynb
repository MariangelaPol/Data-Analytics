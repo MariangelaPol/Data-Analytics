{
 "cells": [
  {
   "cell_type": "code",
   "execution_count": 1,
   "id": "53567019",
   "metadata": {},
   "outputs": [],
   "source": [
    "import pandas as pd\n",
    "from sklearn.feature_extraction.text import CountVectorizer\n",
    "import numpy as np\n",
    "from sklearn.neighbors import KNeighborsClassifier\n",
    "import time\n",
    "from datasketch import MinHash, MinHashLSH\n",
    "import matplotlib.pyplot as plt\n",
    "from scipy import vstack\n",
    "import random\n",
    "\n"
   ]
  },
  {
   "cell_type": "code",
   "execution_count": 2,
   "id": "7b370c10",
   "metadata": {},
   "outputs": [],
   "source": [
    "#load datasets\n",
    "data = pd.read_csv(\"C:/Users/Professional/BigDataAnalytics/imdb/processed_data.csv\")\n",
    "test = pd.read_csv(\"C:/Users/Professional/BigDataAnalytics/imdb/processed_test.csv\")"
   ]
  },
  {
   "cell_type": "markdown",
   "id": "a03dd645",
   "metadata": {},
   "source": [
    "# Brute Force Jaccard\n"
   ]
  },
  {
   "cell_type": "markdown",
   "id": "9fe2648b",
   "metadata": {},
   "source": [
    "$\\bf{Modeling}$"
   ]
  },
  {
   "cell_type": "code",
   "execution_count": 3,
   "id": "6e6860b2",
   "metadata": {},
   "outputs": [],
   "source": [
    "train_feat_c = data[\"review\"].tolist()\n",
    "train_lab = data[\"sentiment\"].tolist()\n",
    "test_feat_c = test[\"review\"].tolist()"
   ]
  },
  {
   "cell_type": "code",
   "execution_count": 4,
   "id": "063181e2",
   "metadata": {},
   "outputs": [],
   "source": [
    "vectorizer = CountVectorizer(binary=True)\n",
    "\n",
    "train_feat = vectorizer.fit_transform(train_feat_c)\n",
    "test_feat = vectorizer.transform(test_feat_c)"
   ]
  },
  {
   "cell_type": "code",
   "execution_count": 5,
   "id": "83bf292c",
   "metadata": {},
   "outputs": [],
   "source": [
    "def custom_jaccard1(vec1,vec2):\n",
    "    denominator = (vec1+vec2).count_nonzero()\n",
    "    numerator =  vec1.count_nonzero()+vec2.count_nonzero() - denominator\n",
    "    return 1- numerator/denominator"
   ]
  },
  {
   "cell_type": "code",
   "execution_count": 6,
   "id": "42bc1792",
   "metadata": {},
   "outputs": [
    {
     "data": {
      "text/plain": [
       "KNeighborsClassifier(algorithm='brute',\n",
       "                     metric=<function custom_jaccard1 at 0x000001EBCB54EE50>,\n",
       "                     n_neighbors=15)"
      ]
     },
     "execution_count": 6,
     "metadata": {},
     "output_type": "execute_result"
    }
   ],
   "source": [
    "neighbf = KNeighborsClassifier(n_neighbors=15, algorithm='brute' ,metric=custom_jaccard1)\n",
    "neighbf.fit(train_feat,train_lab )"
   ]
  },
  {
   "cell_type": "code",
   "execution_count": 7,
   "id": "6b32a914",
   "metadata": {},
   "outputs": [
    {
     "name": "stdout",
     "output_type": "stream",
     "text": [
      "9.149529933929443\n"
     ]
    }
   ],
   "source": [
    "start=time.time()\n",
    "BFjaccard=neighbf.kneighbors(test_feat[9], return_distance=False)\n",
    "end=time.time()\n",
    "print(end-start)"
   ]
  },
  {
   "cell_type": "code",
   "execution_count": 8,
   "id": "5c33412d",
   "metadata": {},
   "outputs": [
    {
     "name": "stdout",
     "output_type": "stream",
     "text": [
      "0.9414414414414415\n",
      "0.0019941329956054688\n"
     ]
    }
   ],
   "source": [
    "start=time.time()\n",
    "print(custom_jaccard1(train_feat[6],train_feat[7]))\n",
    "end=time.time()\n",
    "print(end-start)"
   ]
  },
  {
   "cell_type": "markdown",
   "id": "6d1151da",
   "metadata": {},
   "source": [
    "# LSH\n"
   ]
  },
  {
   "cell_type": "code",
   "execution_count": 9,
   "id": "440b2ef3",
   "metadata": {},
   "outputs": [],
   "source": [
    "train_feat_c_set=[]\n",
    "for i in range(len(train_feat_c)):\n",
    "    train_feat_c_set.append(set(train_feat_c[i].split()))"
   ]
  },
  {
   "cell_type": "code",
   "execution_count": 10,
   "id": "92dae23a",
   "metadata": {},
   "outputs": [],
   "source": [
    "test_feat_c_set=[]\n",
    "for i in range(len(test_feat_c)):\n",
    "    test_feat_c_set.append(set(test_feat_c[i].split()))"
   ]
  },
  {
   "cell_type": "code",
   "execution_count": 11,
   "id": "c093e657",
   "metadata": {},
   "outputs": [],
   "source": [
    "def vector_hashing(doc, num_perm):\n",
    "    m = MinHash(num_perm=num_perm)\n",
    "    for word in doc:\n",
    "        m.update(word.encode('utf8'))\n",
    "    return m"
   ]
  },
  {
   "cell_type": "code",
   "execution_count": 22,
   "id": "6d40eb74",
   "metadata": {},
   "outputs": [],
   "source": [
    "def lsh_build_index(docs, num_perm, sim_thresh=0.6):\n",
    "    lsh_index = MinHashLSH(sim_thresh, num_perm=num_perm)\n",
    "    for i in range(len(docs)):\n",
    "        hashed_doc = vector_hashing(docs[i], num_perm)\n",
    "        lsh_index.insert(i, hashed_doc)\n",
    "    return lsh_index"
   ]
  },
  {
   "cell_type": "code",
   "execution_count": 13,
   "id": "526710a1",
   "metadata": {},
   "outputs": [],
   "source": [
    "def bucket_creation(query_doc, lsh_build_index, num_perm):\n",
    "    hashed_query_doc = vector_hashing(query_doc, num_perm)\n",
    "    bucket = lsh_build_index.query(hashed_query_doc)\n",
    "    return bucket"
   ]
  },
  {
   "cell_type": "code",
   "execution_count": 14,
   "id": "36144e8a",
   "metadata": {},
   "outputs": [],
   "source": [
    "def lsh_knn_fit(train_feat_c,train_lab,vectorizer,bucket_ind):\n",
    "    bucket_train=[]\n",
    "    bucket_lab=[]\n",
    "    for ind in bucket_ind:\n",
    "        bucket_train.append(train_feat_c[ind])\n",
    "        bucket_lab.append(train_lab[ind])\n",
    "    bucket_train=vectorizer.transform(bucket_train)\n",
    "    n_n =  KNeighborsClassifier(n_neighbors=15, algorithm='brute', metric=custom_jaccard1).fit(bucket_train,bucket_lab)\n",
    "    return n_n"
   ]
  },
  {
   "cell_type": "code",
   "execution_count": 15,
   "id": "549ec349",
   "metadata": {},
   "outputs": [],
   "source": [
    "def BFquering(query_ind,test_feat,neighbf):\n",
    "    BF_15=[]\n",
    "    for i in query_ind:\n",
    "        BFjaccard=neighbf.kneighbors(test_feat[i], return_distance=False)\n",
    "        BFjaccard=BFjaccard.tolist()\n",
    "        BFjaccard=BFjaccard[0]\n",
    "        BF_15.append(BFjaccard)\n",
    "    return BF_15\n",
    "    "
   ]
  },
  {
   "cell_type": "code",
   "execution_count": 16,
   "id": "989a7304",
   "metadata": {},
   "outputs": [],
   "source": [
    "def matches_list(top_list,BFcos):\n",
    "    matches=[]\n",
    "    for i in range(len(top_list)):\n",
    "        m=common(top_list[i],BFcos[i])\n",
    "        matches.append(m)\n",
    "    return matches\n"
   ]
  },
  {
   "cell_type": "code",
   "execution_count": 17,
   "id": "814adcfe",
   "metadata": {},
   "outputs": [],
   "source": [
    "def common(vec1,vec2):\n",
    "    x=0\n",
    "    for i in range(len(vec1)):\n",
    "        if vec1[i] in vec2:\n",
    "                x+=1\n",
    "    return x "
   ]
  },
  {
   "cell_type": "code",
   "execution_count": 18,
   "id": "718509fb",
   "metadata": {},
   "outputs": [],
   "source": [
    "def quering(query_ind,train_feat_c,train_lab,test_feat_c_set,lsh_build_index,vectorizer, num_perm):\n",
    "    top_15=[]\n",
    "    for i in query_ind:\n",
    "        bucket=bucket_creation(test_feat_c_set[i],lsh_build_index, num_perm)\n",
    "        if len(bucket)<15:\n",
    "            temp=bucket[:]\n",
    "        else:\n",
    "            n_n=lsh_knn_fit(train_feat_c,train_lab,vectorizer,bucket)\n",
    "            n=n_n.kneighbors(test_feat[i], return_distance=False)\n",
    "            n=n.tolist()\n",
    "            n=n[0]\n",
    "            temp=[]\n",
    "            for i in range(len(n)):\n",
    "                ind=bucket[n[i]]\n",
    "                temp.append(ind)\n",
    "        top_15.append(temp)\n",
    "    return top_15"
   ]
  },
  {
   "cell_type": "code",
   "execution_count": 23,
   "id": "9df4d325",
   "metadata": {},
   "outputs": [],
   "source": [
    "K=[16,32,64]\n",
    "BuildTime = []\n",
    "QueryTime = []\n",
    "TotalTime = []\n",
    "AvgPerc = []\n",
    "#query_ind = random.sample(range(10000), 1000)\n",
    "query_ind = list(range(10000))\n",
    "for k in K:\n",
    "    #LSH Index Creation Time\n",
    "    start=time.time()\n",
    "    lsh_ind = lsh_build_index(train_feat_c_set,k)    \n",
    "    end=time.time()\n",
    "    b=end-start\n",
    "    BuildTime.append(b)\n",
    "    \n",
    "    \n",
    "    #QueryTime\n",
    "    start=time.time()\n",
    "    top_15=quering(query_ind,train_feat_c,train_lab,test_feat_c_set,lsh_ind,vectorizer,k)\n",
    "    end=time.time()\n",
    "    q=end-start\n",
    "    QueryTime.append(q)\n",
    "    t=b+q\n",
    "    TotalTime.append(t)\n",
    "    BFjac=BFquering(query_ind,test_feat,neighbf)\n",
    "    matches=matches_list(top_15,BFjac)\n",
    "    perc = ((sum(matches)/15)/10)*100\n",
    "    AvgPerc.append(perc)\n",
    "  "
   ]
  },
  {
   "cell_type": "code",
   "execution_count": 24,
   "id": "832d7844",
   "metadata": {},
   "outputs": [
    {
     "name": "stdout",
     "output_type": "stream",
     "text": [
      "[0.6666666666666666, 0.6666666666666666, 0.6666666666666666]\n",
      "[53.595641136169434, 56.40787672996521, 67.35669350624084]\n",
      "[0.009975433349609375, 0.012966632843017578, 0.013967037200927734]\n",
      "[53.60561656951904, 56.42084336280823, 67.37066054344177]\n"
     ]
    }
   ],
   "source": [
    "print(AvgPerc)\n",
    "print(BuildTime)\n",
    "print(QueryTime)\n",
    "print(TotalTime)"
   ]
  },
  {
   "cell_type": "code",
   "execution_count": 25,
   "id": "f16d4692",
   "metadata": {},
   "outputs": [
    {
     "data": {
      "image/png": "[encoded data removed]",
      "text/plain": [
       "<Figure size 1440x432 with 4 Axes>"
      ]
     },
     "metadata": {
      "needs_background": "light"
     },
     "output_type": "display_data"
    },
    {
     "data": {
      "text/plain": [
       "<Figure size 432x288 with 0 Axes>"
      ]
     },
     "metadata": {},
     "output_type": "display_data"
    }
   ],
   "source": [
    "fig = plt.figure(figsize=(20, 6))\n",
    "\n",
    "plt.subplot(1,4,1)\n",
    "plt.plot(K, BuildTime, color='b')\n",
    "plt.xlim(1,K[-1]+1)\n",
    "plt.grid(True)\n",
    "plt.xlabel('K (bits)')\n",
    "plt.ylabel('Time (sec)')\n",
    "plt.title(\"BuildTime\")\n",
    "\n",
    "plt.subplot(1,4,2)\n",
    "plt.plot(K, QueryTime, color='r')\n",
    "plt.xlim(1,K[-1]+1)\n",
    "plt.grid(True)\n",
    "plt.xlabel('K (bits)')\n",
    "plt.ylabel('Time (sec)')\n",
    "plt.title(\"QueryTime\")\n",
    "\n",
    "plt.subplot(1,4,3)\n",
    "plt.plot(K, TotalTime, color='g')\n",
    "plt.xlim(1,K[-1]+1)\n",
    "plt.grid(True)\n",
    "plt.xlabel('K (bits)')\n",
    "plt.ylabel('Time (sec)')\n",
    "plt.title(\"TotalTime\")\n",
    "\n",
    "plt.subplot(1,4,4)\n",
    "plt.plot(K, AvgPerc, color='g')\n",
    "plt.xlim(1,K[-1]+1)\n",
    "plt.grid(True)\n",
    "plt.xlabel('K (bits)')\n",
    "plt.ylabel('Average Percentage')\n",
    "plt.title(\"Average Percentage of the true 15-most similar\")\n",
    "\n",
    "plt.show()\n",
    "plt.savefig('Jaccard')"
   ]
  },
  {
   "cell_type": "code",
   "execution_count": null,
   "id": "ca782144",
   "metadata": {},
   "outputs": [],
   "source": []
  }
 ],
 "metadata": {
  "kernelspec": {
   "display_name": "Python 3 (ipykernel)",
   "language": "python",
   "name": "python3"
  },
  "language_info": {
   "codemirror_mode": {
    "name": "ipython",
    "version": 3
   },
   "file_extension": ".py",
   "mimetype": "text/x-python",
   "name": "python",
   "nbconvert_exporter": "python",
   "pygments_lexer": "ipython3",
   "version": "3.9.12"
  }
 },
 "nbformat": 4,
 "nbformat_minor": 5
}
